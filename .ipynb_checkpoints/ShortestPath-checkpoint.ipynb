{
 "cells": [
  {
   "cell_type": "markdown",
   "metadata": {},
   "source": [
    "## Shortest Path 以 Dijkstra's Algorithm實現\n",
    "\n",
    "## [Dijkstra's Algorithm限制:](https://www.quora.com/What-are-the-limitations-of-dijkstras-algorithm-greedy-approach)\n",
    "- 路徑的成本不能為負\n",
    "- 為貪婪演算法，消耗很多資源"
   ]
  },
  {
   "cell_type": "markdown",
   "metadata": {},
   "source": [
    "<img src=\"img/shortestpath.png\", width=300, height=300, style=\"float:left;\">"
   ]
  },
  {
   "cell_type": "code",
   "execution_count": 7,
   "metadata": {},
   "outputs": [],
   "source": [
    "# 定義圖形 (a可以到b、c，\n",
    "#          b可以到c、d...)\n",
    "graph = {'a':{'b':10, 'c':3}, 'b':{'c':1, 'd':2}, 'c':{'b':4, 'd':8, 'e':2}, 'd':{'e':7}, 'e':{'d':9}}\n",
    "\n",
    "def dijkstra(graph, start, goal):\n",
    "    shortest_distance = {} # 紀錄從起點到目的地 的最小成本，例如{'a': 6, 'b':3}\n",
    "    predecessor = {} # 紀錄點從哪裡來，例如{'b': 'a'}\n",
    "    unseenNodes = graph\n",
    "    infinity = 999999 # 設定最大路徑成本(未知的路徑成本)\n",
    "    path = [] # 紀錄最短路徑"
   ]
  },
  {
   "cell_type": "markdown",
   "metadata": {},
   "source": [
    "### Function使用方法:\n",
    "```sh\n",
    "dijkstra(graph, 'a', 'd')\n",
    "```"
   ]
  },
  {
   "cell_type": "code",
   "execution_count": 10,
   "metadata": {},
   "outputs": [],
   "source": [
    "def dijkstra(graph, start, goal):\n",
    "    shortest_distance = {}\n",
    "    predecessor = {}\n",
    "    unseenNodes = graph\n",
    "    infinity = 999999\n",
    "    path = []\n",
    "    \n",
    "    # 初始化路徑，所有點成本設為無限大\n",
    "    for node in unseenNodes:\n",
    "        shortest_distance[node] = infinity\n",
    "    shortest_distance[start] = 0 # 起始點成本設為0\n",
    "    print(shortest_distance)"
   ]
  },
  {
   "cell_type": "code",
   "execution_count": 11,
   "metadata": {},
   "outputs": [
    {
     "name": "stdout",
     "output_type": "stream",
     "text": [
      "{'a': 0, 'b': 999999, 'c': 999999, 'd': 999999, 'e': 999999}\n"
     ]
    }
   ],
   "source": [
    "dijkstra(graph, 'a', 'd')"
   ]
  },
  {
   "cell_type": "code",
   "execution_count": null,
   "metadata": {},
   "outputs": [],
   "source": []
  },
  {
   "cell_type": "code",
   "execution_count": 15,
   "metadata": {},
   "outputs": [],
   "source": [
    "def dijkstra(graph, start, goal):\n",
    "    shortest_distance = {}\n",
    "    predecessor = {}\n",
    "    unseenNodes = graph\n",
    "    infinity = 999999\n",
    "    path = []\n",
    "    for node in unseenNodes:\n",
    "        shortest_distance[node] = infinity\n",
    "    shortest_distance[start] = 0\n",
    "    \n",
    "    # -----------------目前狀況------------------------------------------------------------------------------ #\n",
    "    # shortest_distance = {'a': 0, 'b': 999999, 'c': 999999, 'd': 999999, 'e': 999999}                       #\n",
    "    # graph = {'a':{'b':10, 'c':3}, 'b':{'c':1, 'd':2}, 'c':{'b':4, 'd':8, 'e':2}, 'd':{'e':7}, 'e':{'d':9}} #\n",
    "    # unseenNodes = graph                                                                                    #\n",
    "    # ------------------------------------------------------------------------------------------------------ #\n",
    "    \n",
    "    \n",
    "    # -----------------新增部分----------------- #\n",
    "    while unseenNodes:\n",
    "        # 挑選此次要走訪的點，選成本較小的點走\n",
    "        currentNode = None\n",
    "        for node in unseenNodes:\n",
    "            if currentNode is None:\n",
    "                currentNode = node\n",
    "            elif shortest_distance[node] < shortest_distance[currentNode]:\n",
    "                currentNode = node\n",
    "\n",
    "        # 更新到某點(a、b、c、...)的最小成本\n",
    "        for childNode, weight in graph[currentNode].items():\n",
    "            if weight + shortest_distance[currentNode] < shortest_distance[childNode]:\n",
    "                shortest_distance[childNode] = weight + shortest_distance[currentNode]\n",
    "                predecessor[childNode] = currentNode\n",
    "        unseenNodes.pop(currentNode) # 已經走訪過的點刪除\n",
    "    print(shortest_distance)"
   ]
  },
  {
   "cell_type": "markdown",
   "metadata": {},
   "source": [
    "```python\n",
    "while unseenNodes:\n",
    "``` \n",
    "#### 是無窮迴圈 (一直跑a、b、c、d、e... )\n",
    "\n",
    "###  注意 [for 與 while差異](http://nbis.pixnet.net/blog/post/58238148-%5Bpython%5D-for與while迴圈%28loop%29的差別)\n",
    "\n",
    "### 上面程式碼看不懂的話，看[這篇文章](http://nthucad.cs.nthu.edu.tw/~yyliu/personal/nou/04ds/dijkstra.html)，把過程跑一遍就懂了"
   ]
  },
  {
   "cell_type": "code",
   "execution_count": 16,
   "metadata": {},
   "outputs": [
    {
     "name": "stdout",
     "output_type": "stream",
     "text": [
      "{'a': 0, 'b': 7, 'c': 3, 'd': 9, 'e': 5}\n"
     ]
    }
   ],
   "source": [
    "dijkstra(graph, 'a', 'd')"
   ]
  },
  {
   "cell_type": "markdown",
   "metadata": {},
   "source": [
    "<tr>\n",
    "    <td> <img src=\"img/shortestpath2.png\", width=260, height=260, style=\"float:left;\"> </td>\n",
    "    <td> -> </td>\n",
    "    <td> <img src=\"img/shortestpath3.png\", width=260, height=260, style=\"float:left;\"> </td>\n",
    "    <td> -> </td>\n",
    "    <td> <img src=\"img/shortestpath4.png\", width=260, height=260, style=\"float:left;\"> </td>\n",
    "</tr>"
   ]
  },
  {
   "cell_type": "code",
   "execution_count": null,
   "metadata": {},
   "outputs": [],
   "source": []
  },
  {
   "cell_type": "code",
   "execution_count": 25,
   "metadata": {},
   "outputs": [],
   "source": [
    "def dijkstra(graph, start, goal):\n",
    "    shortest_distance = {}\n",
    "    predecessor = {}\n",
    "    unseenNodes = graph\n",
    "    infinity = 999999\n",
    "    path = []\n",
    "    for node in unseenNodes:\n",
    "        shortest_distance[node] = infinity\n",
    "    shortest_distance[start] = 0\n",
    "    while unseenNodes:\n",
    "        currentNode = None\n",
    "        for node in unseenNodes:\n",
    "            if currentNode is None:\n",
    "                currentNode = node\n",
    "            elif shortest_distance[node] < shortest_distance[currentNode]:\n",
    "                currentNode = node\n",
    "        for childNode, weight in graph[currentNode].items():\n",
    "            if weight + shortest_distance[currentNode] < shortest_distance[childNode]:\n",
    "                shortest_distance[childNode] = weight + shortest_distance[currentNode]\n",
    "                predecessor[childNode] = currentNode\n",
    "        unseenNodes.pop(currentNode)\n",
    "    \n",
    "    # -----------------新增部分----------------- #\n",
    "    goalNode = goal\n",
    "    while goalNode != start:\n",
    "        try:\n",
    "            # 最佳路徑，從終點往起點填入\n",
    "            path.insert(0, goalNode)\n",
    "            goalNode = predecessor[goalNode]\n",
    "        except KeyError:\n",
    "            print('Path not reachable')\n",
    "            break\n",
    "    path.insert(0, start)\n",
    "    if shortest_distance[goal] != infinity:\n",
    "        print('Shortest distance is ' + str(shortest_distance[goal]))\n",
    "        print('And the path is ' + str(path))"
   ]
  },
  {
   "cell_type": "markdown",
   "metadata": {},
   "source": [
    "```python\n",
    "except KeyError:\n",
    "``` \n",
    "\n",
    "###  操作 [dictionary避免出現KeyError](https://www.polarxiong.com/archives/Python-操作dict时避免出现KeyError的几种方法.html)"
   ]
  },
  {
   "cell_type": "code",
   "execution_count": 36,
   "metadata": {},
   "outputs": [],
   "source": [
    "# 每次需要將圖形初始化\n",
    "graph = {'a':{'b':10, 'c':3}, 'b':{'c':1, 'd':2}, 'c':{'b':4, 'd':8, 'e':2}, 'd':{'e':7}, 'e':{'d':9}}"
   ]
  },
  {
   "cell_type": "code",
   "execution_count": 28,
   "metadata": {
    "scrolled": true
   },
   "outputs": [
    {
     "name": "stdout",
     "output_type": "stream",
     "text": [
      "Shortest distance is 9\n",
      "And the path is ['a', 'c', 'b', 'd']\n"
     ]
    }
   ],
   "source": [
    "dijkstra(graph, 'a', 'd')"
   ]
  },
  {
   "cell_type": "code",
   "execution_count": null,
   "metadata": {},
   "outputs": [],
   "source": []
  },
  {
   "cell_type": "code",
   "execution_count": 31,
   "metadata": {},
   "outputs": [
    {
     "name": "stdout",
     "output_type": "stream",
     "text": [
      "Shortest distance is 5\n",
      "And the path is ['a', 'c', 'e']\n"
     ]
    }
   ],
   "source": [
    "graph = {'a':{'b':10, 'c':3}, 'b':{'c':1, 'd':2}, 'c':{'b':4, 'd':8, 'e':2}, 'd':{'e':7}, 'e':{'d':9}}\n",
    "dijkstra(graph, 'a', 'e')"
   ]
  },
  {
   "cell_type": "code",
   "execution_count": null,
   "metadata": {},
   "outputs": [],
   "source": []
  },
  {
   "cell_type": "code",
   "execution_count": 34,
   "metadata": {},
   "outputs": [
    {
     "name": "stdout",
     "output_type": "stream",
     "text": [
      "Path not reachable\n"
     ]
    }
   ],
   "source": [
    "graph = {'a':{'b':10, 'c':3}, 'b':{'c':1, 'd':2}, 'c':{'b':4, 'd':8, 'e':2}, 'd':{'e':7}, 'e':{'d':9}}\n",
    "dijkstra(graph, 'e', 'a')"
   ]
  },
  {
   "cell_type": "code",
   "execution_count": null,
   "metadata": {},
   "outputs": [],
   "source": []
  },
  {
   "cell_type": "code",
   "execution_count": 37,
   "metadata": {},
   "outputs": [
    {
     "name": "stdout",
     "output_type": "stream",
     "text": [
      "Shortest distance is 6\n",
      "And the path is ['c', 'b', 'd']\n"
     ]
    }
   ],
   "source": [
    "graph = {'a':{'b':10, 'c':3}, 'b':{'c':1, 'd':2}, 'c':{'b':4, 'd':8, 'e':2}, 'd':{'e':7}, 'e':{'d':9}}\n",
    "dijkstra(graph, 'c', 'd')"
   ]
  },
  {
   "cell_type": "markdown",
   "metadata": {},
   "source": [
    "### 改進 當start或goal不在地圖(graph)裡時"
   ]
  },
  {
   "cell_type": "code",
   "execution_count": 70,
   "metadata": {},
   "outputs": [],
   "source": [
    "def dijkstra(graph, start, goal):\n",
    "    shortest_distance = {}\n",
    "    predecessor = {}\n",
    "    unseenNodes = graph\n",
    "    infinity = 999999\n",
    "    path = []\n",
    "    # 改進部分\n",
    "    if start not in graph or goal not in graph:\n",
    "        print('Graph do not exist start or goal point.')\n",
    "        return\n",
    "    \n",
    "    for node in unseenNodes:\n",
    "        shortest_distance[node] = infinity\n",
    "    shortest_distance[start] = 0\n",
    "    while unseenNodes:\n",
    "        currentNode = None\n",
    "        for node in unseenNodes:\n",
    "            if currentNode is None:\n",
    "                currentNode = node\n",
    "            elif shortest_distance[node] < shortest_distance[currentNode]:\n",
    "                currentNode = node\n",
    "        for childNode, weight in graph[currentNode].items():\n",
    "            if weight + shortest_distance[currentNode] < shortest_distance[childNode]:\n",
    "                shortest_distance[childNode] = weight + shortest_distance[currentNode]\n",
    "                predecessor[childNode] = currentNode\n",
    "        unseenNodes.pop(currentNode)\n",
    "    \n",
    "    goalNode = goal\n",
    "    while goalNode != start:\n",
    "        try:\n",
    "            path.insert(0, goalNode)\n",
    "            goalNode = predecessor[goalNode]\n",
    "        except KeyError:\n",
    "            print('Path not reachable')\n",
    "            break\n",
    "    path.insert(0, start)\n",
    "    if shortest_distance[goal] != infinity:\n",
    "        print('Shortest distance is ' + str(shortest_distance[goal]))\n",
    "        print('And the path is ' + str(path))"
   ]
  },
  {
   "cell_type": "markdown",
   "metadata": {},
   "source": [
    "### [檢測dic的key是否存在](https://www.mkyong.com/python/python-check-if-key-exists-in-dictionary/)"
   ]
  },
  {
   "cell_type": "code",
   "execution_count": 71,
   "metadata": {},
   "outputs": [
    {
     "name": "stdout",
     "output_type": "stream",
     "text": [
      "Graph do not exist start or goal point.\n"
     ]
    }
   ],
   "source": [
    "graph = {'a':{'b':10, 'c':3}, 'b':{'c':1, 'd':2}, 'c':{'b':4, 'd':8, 'e':2}, 'd':{'e':7}, 'e':{'d':9}}\n",
    "dijkstra(graph, 'c', 'f')"
   ]
  },
  {
   "cell_type": "code",
   "execution_count": null,
   "metadata": {},
   "outputs": [],
   "source": []
  },
  {
   "cell_type": "code",
   "execution_count": 73,
   "metadata": {},
   "outputs": [
    {
     "name": "stdout",
     "output_type": "stream",
     "text": [
      "Shortest distance is 5\n",
      "And the path is ['a', 'c', 'e']\n"
     ]
    }
   ],
   "source": [
    "graph = {'a':{'b':10, 'c':3}, 'b':{'c':1, 'd':2}, 'c':{'b':4, 'd':8, 'e':2}, 'd':{'e':7}, 'e':{'d':9}}\n",
    "dijkstra(graph, 'a', 'e')"
   ]
  }
 ],
 "metadata": {
  "kernelspec": {
   "display_name": "Python 3",
   "language": "python",
   "name": "python3"
  },
  "language_info": {
   "codemirror_mode": {
    "name": "ipython",
    "version": 3
   },
   "file_extension": ".py",
   "mimetype": "text/x-python",
   "name": "python",
   "nbconvert_exporter": "python",
   "pygments_lexer": "ipython3",
   "version": "3.6.4"
  }
 },
 "nbformat": 4,
 "nbformat_minor": 2
}
